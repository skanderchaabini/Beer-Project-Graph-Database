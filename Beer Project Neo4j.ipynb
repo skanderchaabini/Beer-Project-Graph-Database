{
 "cells": [
  {
   "cell_type": "markdown",
   "metadata": {},
   "source": [
    "# Big Data Modeling and Management Assigment Neo4j"
   ]
  },
  {
   "cell_type": "markdown",
   "metadata": {},
   "source": [
    "## 🍺 The Beer project  🍺 \n",
    "\n",
    "As it was shown in classes, graph databases are a natural way of navegating distinct types of data. For this first project we will be taking a graph database to analyse beer and breweries!   \n",
    "\n",
    "_For reference the dataset used for this project has been extracted from [kaggle](https://www.kaggle.com/ehallmar/beers-breweries-and-beer-reviews), released by Evan Hallmark. Even though the author does not present metada on the origin of the data it is probably a collection of open data from places like [beeradvocate](https://www.beeradvocate.com/)_.\n",
    "\n",
    "### Problem description\n",
    "\n",
    "Explore the database via python neo4j connector and/or the graphical tool in the NEO4J webpage. Answer the questions. Submit the results by following the instructions\n",
    "\n",
    "\n",
    "### Questions\n",
    "\n",
    "1. How many different countries exist in the database?\n",
    "1. Most reviews:  \n",
    "    1. Which `Beer` has the most reviews?  \n",
    "    1. Which `Brewery` has the most reviews for its beers? [Hint: 5-node path]\n",
    "    1. Which `Country` has the most reviews for its beers? [Hint: 5-node path]\n",
    "1. Find the user/users that have the most shared reviews (reviews of the same beers) with the user CTJman?\n",
    "1. Which Portuguese brewery has the most beers?\n",
    "1. From those beers (the ones returned from the previous question), which has the most reviews?\n",
    "1. On average how many different beer styles does each brewery produce?\n",
    "1. Which brewery produces the strongest beers according to ABV? [Hint: database has NaN values]\n",
    "1. If I typically enjoy a beer due to its aroma and appearance, which beer style should I try? (Justify your answer well!) [Hint: database has NaN values]\n",
    "1. Using Graph Algorithms answer **one** of the following questions: [Hint: make sure to clear the graph before using it again]\n",
    "    1. Which two countries are most similiar when it comes to their **top 10** most produced Beer styles?\n",
    "    2. Which beer is the most influential when considering beers are conected by users who review them? [Please use limit of 1000 on beer-review-user path]]\n",
    "    3. Users are connected together by their reviews to beers, taking into consideration the \"overall\" score they review as a weight, how many communities are formed from these relationships? How many users has the biggest community? [Please use limit of 1000 on beer-review-user path]]\n",
    "1. Using Graph Algorithms answer **one** of the following questions:\n",
    "    1. Which beer has the most similar reviews as the beer `Super Bock Stout`? [Hint:inspect two subsets: with and without the beer in question]\n",
    "    2. Which user is the most influential when it comes to reviews made?\n",
    "1. If you had to pick 3 beers to recommend using only this database, which would you pick and why? (Justify your answer well!) [Hint: database has NaN values]\n",
    "\n",
    "\n",
    "Questions 8 to 10 are somewhat open, which means we'll also be evaluating the reasoning behind your answer. So there aren't necessarily bad results there are only wrong criteria, explanations or execution. \n",
    " \n",
    "### Groups  \n",
    "\n",
    "Groups should have 4 to 5 people.\n",
    "You should register your group on **moodle**.\n",
    "\n",
    "### Submission      \n",
    "\n",
    "The code used to produce the results and respective explations should be uploaded to moodle. They should have a clear reference to the group, either on the file name or on the document itself. Preferably one Jupyter notebook per group.\n",
    "\n",
    "Delivery date: Until the **midnight of March 13**\n",
    "\n",
    "### Evaluation   \n",
    "\n",
    "This will be 20% of the final grade.   \n",
    "Each solution will be evaluated on 2 components: correctness of results and simplicity of the solution.  \n",
    "All code will go through plagiarism automated checks. Groups with the same code will undergo investigation."
   ]
  },
  {
   "cell_type": "markdown",
   "metadata": {},
   "source": [
    "## Loading the Database\n",
    "\n",
    "#### Be sure that you **don't have** the neo4j docker container from the classes running (you can Stop it in the desktop app or with the command \"`docker stop Neo4JLab`\")\n",
    "\n",
    "\n",
    "The default container does not have any data whatsoever, we will have to load a database into our docker image:\n",
    "- Download and unzip the `Neo4JHWData` file provided in Moodle.\n",
    "- Copy the path of the `Neo4JHWData` folder of the unziped file, e.g. `C:/Users/nunoa/Desktop/Aulas/Big Data Management and Modelling/2023/HW1/Neo4JHWData/data`.\n",
    "- Download and unzip the `Neo4JPlugins` file provided in Moodle.\n",
    "- Copy the path of the `Neo4JPlugins` folder of the unziped file, e.g. `C:/Users/nunoa/Desktop/Aulas/Big Data Management and Modelling/2023/Neo4Jplugins`.\n",
    "- Change the code bellow accordingly. As you might have noticed, you do not have a user called `nunoa`, please use the appropriate path that you got from the previous step. Be sure that you have a neo4j docker container running: \\\n",
    "\n",
    "`docker run --name Neo4JHW -p 7474:7474 -p 7687:7687 -d -v \"/Users/CarlotaCarneiro/Desktop/NOVA IMS/BDMM/Práticas/Aula 1/Neo4Jplugins\":/plugins -v \"/Users/CarlotaCarneiro/Desktop/NOVA IMS/BDMM/HW/Neo4JHWData/data\":/data --env NEO4J_AUTH=neo4j/test --env NEO4J_dbms_connector_https_advertised__address=\"localhost:7473\" --env NEO4J_dbms_connector_http_advertised__address=\"localhost:7474\" --env NEO4J_dbms_connector_bolt_advertised__address=\"localhost:7687\" --env NEO4J_dbms_security_procedures_unrestricted=\"gds.*\" --env NEO4J_dbms_security_procedures_allowlist=\"gds.*\" neo4j:4.4.5`\n",
    "\n",
    "- Since Neo4j is trying to recognize a new database folder, this might take a bit (let's say 3 minutes), so don't worry."
   ]
  },
  {
   "cell_type": "code",
   "execution_count": 1,
   "metadata": {},
   "outputs": [],
   "source": [
    "from neo4j import GraphDatabase\n",
    "from pprint import pprint"
   ]
  },
  {
   "cell_type": "code",
   "execution_count": 2,
   "metadata": {},
   "outputs": [],
   "source": [
    "NEO4J_URI=\"neo4j://localhost:7687\"\n",
    "NEO4J_USERNAME=\"neo4j\"\n",
    "NEO4J_PASSWORD=\"test\""
   ]
  },
  {
   "cell_type": "code",
   "execution_count": 3,
   "metadata": {},
   "outputs": [],
   "source": [
    "driver = GraphDatabase.driver(NEO4J_URI, auth=(NEO4J_USERNAME, NEO4J_PASSWORD), )"
   ]
  },
  {
   "cell_type": "markdown",
   "metadata": {},
   "source": [
    "### All The Functions you'll need to run queries in Neo4J"
   ]
  },
  {
   "cell_type": "code",
   "execution_count": 4,
   "metadata": {},
   "outputs": [],
   "source": [
    "def execute_read(driver, query):    \n",
    "    with driver.session(database=\"neo4j\") as session:\n",
    "        result = session.execute_read(lambda tx, query: list(tx.run(query)), query)\n",
    "    return result"
   ]
  },
  {
   "cell_type": "markdown",
   "metadata": {},
   "source": [
    "### Understanding the Database"
   ]
  },
  {
   "cell_type": "code",
   "execution_count": 5,
   "metadata": {},
   "outputs": [
    {
     "name": "stdout",
     "output_type": "stream",
     "text": [
      "[<Record label='COUNTRIES'>,\n",
      " <Record label='CITIES'>,\n",
      " <Record label='BREWERIES'>,\n",
      " <Record label='BEERS'>,\n",
      " <Record label='REVIEWS'>,\n",
      " <Record label='STYLE'>,\n",
      " <Record label='USER'>]\n"
     ]
    }
   ],
   "source": [
    "query = \"\"\"\n",
    "        call db.labels();\n",
    "    \"\"\"\n",
    "\n",
    "result = execute_read(driver, query)\n",
    "\n",
    "pprint(result)"
   ]
  },
  {
   "cell_type": "code",
   "execution_count": 6,
   "metadata": {},
   "outputs": [
    {
     "name": "stdout",
     "output_type": "stream",
     "text": [
      "[<Record relationshipType='REVIEWED'>,\n",
      " <Record relationshipType='BREWED'>,\n",
      " <Record relationshipType='IN'>,\n",
      " <Record relationshipType='HAS_STYLE'>,\n",
      " <Record relationshipType='POSTED'>]\n"
     ]
    }
   ],
   "source": [
    "query = \"\"\"\n",
    "        CALL db.relationshipTypes();\n",
    "    \"\"\"\n",
    "\n",
    "result = execute_read(driver, query)\n",
    "\n",
    "pprint(result)"
   ]
  },
  {
   "cell_type": "markdown",
   "metadata": {},
   "source": [
    "# Submission\n",
    "\n",
    "GROUP NUMBER:\n",
    "\n",
    "**3**\n",
    "\n",
    "GROUP MEMBERS:\n",
    "\n",
    "|STUDENT NUMBER|STUDENT NAME|\n",
    "|---|---|\n",
    "|20220658|Alex Santander|\n",
    "|20210684|Carlota Carneiro Vieira|\n",
    "|20220052|Inês Rocha|\n",
    "|20210995|Ricardo Arraiano|\n",
    "|20221041|Skander Chaabini|"
   ]
  },
  {
   "cell_type": "markdown",
   "metadata": {},
   "source": [
    "#### 1. How many different countries exist in the database?"
   ]
  },
  {
   "cell_type": "code",
   "execution_count": 7,
   "metadata": {},
   "outputs": [
    {
     "name": "stdout",
     "output_type": "stream",
     "text": [
      "[<Record Number_of_Countries=200>]\n"
     ]
    }
   ],
   "source": [
    "query_1 = \"\"\"\n",
    "            MATCH (c:COUNTRIES)\n",
    "            RETURN COUNT(c) as Number_of_Countries\n",
    "          \"\"\"\n",
    "\n",
    "result_1 = execute_read(driver, query_1)\n",
    "\n",
    "pprint(result_1)"
   ]
  },
  {
   "cell_type": "markdown",
   "metadata": {},
   "source": [
    "#### 2. Most reviews:  \n",
    "    A) Which `Beer` has the most reviews?  \n",
    "    B) Which `Brewery` has the most reviews for its beers?\n",
    "    C) Which `Country` has the most reviews for its beers? "
   ]
  },
  {
   "cell_type": "code",
   "execution_count": 8,
   "metadata": {},
   "outputs": [
    {
     "name": "stdout",
     "output_type": "stream",
     "text": [
      "[<Record Beer='IPA' Number_of_Reviews=31387>]\n"
     ]
    }
   ],
   "source": [
    "query_2a = \"\"\"\n",
    "            MATCH (b:BEERS)-[rv:REVIEWED]->(r:REVIEWS)\n",
    "            RETURN b.name as Beer, COUNT(r) as Number_of_Reviews\n",
    "            ORDER BY Number_of_Reviews DESC\n",
    "            LIMIT 1\n",
    "           \"\"\"\n",
    "\n",
    "result_2a = execute_read(driver, query_2a)\n",
    "\n",
    "pprint(result_2a)"
   ]
  },
  {
   "cell_type": "code",
   "execution_count": 9,
   "metadata": {},
   "outputs": [
    {
     "name": "stdout",
     "output_type": "stream",
     "text": [
      "[<Record Brewery='Sierra Nevada Brewing Co.' Number_of_Reviews=175161>]\n"
     ]
    }
   ],
   "source": [
    "query_2b = \"\"\"\n",
    "            MATCH (br:BREWERIES)-[bre:BREWED]->(b:BEERS)-[rv:REVIEWED]->(r:REVIEWS)\n",
    "            RETURN br.name as Brewery, COUNT(r) as Number_of_Reviews\n",
    "            ORDER BY Number_of_Reviews DESC\n",
    "            LIMIT 1\n",
    "           \"\"\"\n",
    "\n",
    "result_2b = execute_read(driver, query_2b)\n",
    "\n",
    "pprint(result_2b)"
   ]
  },
  {
   "cell_type": "code",
   "execution_count": 10,
   "metadata": {},
   "outputs": [
    {
     "name": "stdout",
     "output_type": "stream",
     "text": [
      "[<Record Country='US' Number_of_Reviews=7675804>]\n"
     ]
    }
   ],
   "source": [
    "query_2c = \"\"\"\n",
    "            MATCH (c:COUNTRIES)<-[in:IN]-(ci:CITIES)<-[ins:IN]-(br:BREWERIES)-[bre:BREWED]->(b:BEERS)-[rv:REVIEWED]->(r:REVIEWS)\n",
    "            RETURN c.name as Country, COUNT(r) as Number_of_Reviews\n",
    "            ORDER BY Number_of_Reviews DESC\n",
    "            LIMIT 1\n",
    "           \"\"\"\n",
    "\n",
    "result_2c = execute_read(driver, query_2c)\n",
    "\n",
    "pprint(result_2c)"
   ]
  },
  {
   "cell_type": "markdown",
   "metadata": {},
   "source": [
    "#### 3. Find the user/users that have the most shared reviews (reviews of the same beers) with the user CTJman?"
   ]
  },
  {
   "cell_type": "code",
   "execution_count": 11,
   "metadata": {},
   "outputs": [
    {
     "name": "stdout",
     "output_type": "stream",
     "text": [
      "[<Record Username='acurtis' Shared_Reviews=1428>]\n"
     ]
    }
   ],
   "source": [
    "name = 'CTJman'\n",
    "\n",
    "query_3 = f\"\"\"\n",
    "            MATCH (u1:USER{{name: '{name}'}})<-[p1:POSTED]-(r1:REVIEWS)<-[rv1:REVIEWED]-(b:BEERS)-[rv2:REVIEWED]->(r2:REVIEWS)-[p2:POSTED]->(u2:USER)\n",
    "            RETURN u2.name as Username, count(u2) as Shared_Reviews\n",
    "            ORDER BY Shared_Reviews DESC\n",
    "            LIMIT 1\n",
    "           \"\"\"\n",
    "\n",
    "result_3 = execute_read(driver, query_3)\n",
    "\n",
    "pprint(result_3)"
   ]
  },
  {
   "cell_type": "code",
   "execution_count": 12,
   "metadata": {},
   "outputs": [
    {
     "name": "stdout",
     "output_type": "stream",
     "text": [
      "[<Record Username='acurtis' Number_of_Reviews=12016>]\n"
     ]
    }
   ],
   "source": [
    "# Checking the total number of reviews of the User 'acurtis'\n",
    "\n",
    "name = result_3[0][0]\n",
    "\n",
    "query_3a = f\"\"\"\n",
    "             MATCH (u1:USER{{name: '{name}'}})<-[p1:POSTED]-(r1:REVIEWS)<-[rv1:REVIEWED]-(b:BEERS)\n",
    "             RETURN u1.name as Username, COUNT(r1) as Number_of_Reviews\n",
    "            \"\"\"\n",
    "\n",
    "result_3a = execute_read(driver, query_3a)\n",
    "\n",
    "pprint(result_3a)"
   ]
  },
  {
   "cell_type": "markdown",
   "metadata": {},
   "source": [
    "#### 4. Which Portuguese brewery has the most beers?"
   ]
  },
  {
   "cell_type": "code",
   "execution_count": 13,
   "metadata": {},
   "outputs": [
    {
     "name": "stdout",
     "output_type": "stream",
     "text": [
      "[<Record Brewery='Dois Corvos Cervejeira' Number_of_Beers=40>]\n"
     ]
    }
   ],
   "source": [
    "query_4 = \"\"\"\n",
    "            MATCH (c:COUNTRIES)<-[in:IN]-(ci:CITIES)<-[ins:IN]-(br:BREWERIES)-[bre:BREWED]->(b:BEERS)\n",
    "            WHERE c.name = \"PT\"\n",
    "            RETURN br.name as Brewery, COUNT(b) as Number_of_Beers\n",
    "            ORDER BY Number_of_Beers DESC\n",
    "            LIMIT 1\n",
    "          \"\"\"\n",
    "\n",
    "result_4 = execute_read(driver, query_4)\n",
    "\n",
    "pprint(result_4)"
   ]
  },
  {
   "cell_type": "markdown",
   "metadata": {},
   "source": [
    "#### 5. From those beers (the ones produced in the brewery from the previous question), which has the most reviews?\n"
   ]
  },
  {
   "cell_type": "code",
   "execution_count": 14,
   "metadata": {},
   "outputs": [
    {
     "name": "stdout",
     "output_type": "stream",
     "text": [
      "[<Record Beer='Finisterra' Number_of_Reviews=10>]\n"
     ]
    }
   ],
   "source": [
    "query_5 = f\"\"\"\n",
    "            MATCH (br:BREWERIES)-[bre:BREWED]->(b:BEERS)-[rv:REVIEWED]->(r:REVIEWS)\n",
    "            WHERE br.name = '{result_4[0][0]}'\n",
    "            RETURN b.name as Beer, COUNT(r) as Number_of_Reviews\n",
    "            ORDER BY Number_of_Reviews DESC\n",
    "            LIMIT 1\n",
    "           \"\"\"\n",
    "\n",
    "result_5 = execute_read(driver, query_5)\n",
    "\n",
    "pprint(result_5)"
   ]
  },
  {
   "cell_type": "markdown",
   "metadata": {},
   "source": [
    "#### 6. On average how many different beer styles does each brewery produce?"
   ]
  },
  {
   "cell_type": "code",
   "execution_count": 15,
   "metadata": {},
   "outputs": [
    {
     "name": "stdout",
     "output_type": "stream",
     "text": [
      "[<Record Average_Number_of_Beer_Styles=10.6>]\n"
     ]
    }
   ],
   "source": [
    "query_6 = \"\"\"\n",
    "            MATCH (br:BREWERIES)-[bre:BREWED]->(b:BEERS)-[h:HAS_STYLE]->(s:STYLE)\n",
    "            WITH br, COUNT(distinct s.name) as Beer_Styles\n",
    "            RETURN ROUND(AVG(Beer_Styles), 2) as Average_Number_of_Beer_Styles\n",
    "          \"\"\"\n",
    "\n",
    "result_6 = execute_read(driver, query_6)\n",
    "\n",
    "pprint(result_6)"
   ]
  },
  {
   "cell_type": "markdown",
   "metadata": {},
   "source": [
    "#### 7. Which brewery produces the strongest beers according to ABV?"
   ]
  },
  {
   "cell_type": "markdown",
   "metadata": {},
   "source": [
    "<b> Answer:</b>"
   ]
  },
  {
   "cell_type": "code",
   "execution_count": 16,
   "metadata": {},
   "outputs": [
    {
     "name": "stdout",
     "output_type": "stream",
     "text": [
      "[<Record Brewery='1648 Brewing Company Ltd' Average_ABV=25.58>]\n"
     ]
    }
   ],
   "source": [
    "# Brewery with the strongest beers according to ABV (on average)\n",
    "\n",
    "query_7a = \"\"\"\n",
    "            MATCH (br:BREWERIES)-[bre:BREWED]->(b:BEERS)\n",
    "            WHERE toFloat(b.abv) <> 'nan'\n",
    "            RETURN DISTINCT br.name as Brewery, ROUND(AVG(toFloat(b.abv)), 2) as Average_ABV\n",
    "            ORDER BY Average_ABV DESC\n",
    "            LIMIT 1\n",
    "           \"\"\"\n",
    "\n",
    "result_7a = execute_read(driver, query_7a)\n",
    "\n",
    "pprint(result_7a)"
   ]
  },
  {
   "cell_type": "markdown",
   "metadata": {},
   "source": [
    "<b> Extra Answer: </b>"
   ]
  },
  {
   "cell_type": "code",
   "execution_count": 17,
   "metadata": {},
   "outputs": [
    {
     "name": "stdout",
     "output_type": "stream",
     "text": [
      "[<Record Brewery='Avondale Brewing Co.' ABV=100.0>,\n",
      " <Record Brewery='1648 Brewing Company Ltd' ABV=100.0>]\n"
     ]
    }
   ],
   "source": [
    "# Brewery with the strongest beer according to ABV (maximum)\n",
    "\n",
    "query_7b = \"\"\"\n",
    "            MATCH (be:BEERS)\n",
    "            WHERE toFloat(be.abv) <> 'nan'\n",
    "            WITH MAX(toFloat(be.abv)) as maximum_abv\n",
    "            MATCH (br:BREWERIES)-[bre:BREWED]->(b:BEERS)\n",
    "            WHERE toFloat(b.abv) = maximum_abv\n",
    "            RETURN DISTINCT br.name as Brewery, toFloat(b.abv) as ABV\n",
    "           \"\"\"\n",
    "\n",
    "result_7b = execute_read(driver, query_7b)\n",
    "\n",
    "pprint(result_7b)"
   ]
  },
  {
   "cell_type": "markdown",
   "metadata": {},
   "source": [
    "#### 8. If I typically enjoy a beer due to its aroma and appearance, which beer style should I try?"
   ]
  },
  {
   "cell_type": "code",
   "execution_count": 18,
   "metadata": {},
   "outputs": [
    {
     "name": "stdout",
     "output_type": "stream",
     "text": [
      "[<Record Style='New England IPA' Average_Aroma=4.41 Average_Look=4.38>]\n"
     ]
    }
   ],
   "source": [
    "# We grouped the beers by their styles and then we averaged the smell score for the aroma and the look score for the appearance.\n",
    "# We ordered the styles based on the sum of both requisites and chose the top 1\n",
    "query_8 = \"\"\"\n",
    "            MATCH (s: STYLE)<-[h:HAS_STYLE]-(b:BEERS)-[rv:REVIEWED]->(r:REVIEWS)\n",
    "            WHERE toFloat(r.smell) <> 'nan' AND toFloat(r.look) <> 'nan'\n",
    "            RETURN DISTINCT s.name as Style, ROUND(AVG(toFloat(r.smell)), 2) as Average_Aroma, ROUND(AVG(toFloat(r.look)), 2) as Average_Look\n",
    "            ORDER BY (Average_Aroma + Average_Look) DESC\n",
    "            LIMIT 1\n",
    "          \"\"\"\n",
    "\n",
    "result_8 = execute_read(driver, query_8)\n",
    "\n",
    "pprint(result_8)"
   ]
  },
  {
   "cell_type": "markdown",
   "metadata": {},
   "source": [
    "#### 9. Using Graph Algorithms answer **one** of the following questions:\n",
    "    1. Which two countries are most similiar when it comes to their **top 10** most produced Beer styles?  \n",
    "    --> Node Similarity algorithm\n",
    "    2. Which beer is the most influential when considering beers are conected by users who review them?  \n",
    "    --> PageRank\n",
    "    3. Users are connected together by their reviews to beers, taking into consideration the \"overall\" score they review as a weight, how many communities are formed from these relationships? How many users has the biggest community?  \n",
    "    --> Label Propagation algorithm"
   ]
  },
  {
   "cell_type": "markdown",
   "metadata": {},
   "source": [
    "<b>9.1.</b> Which two countries are most similiar when it comes to their top 10 most produced Beer styles?"
   ]
  },
  {
   "cell_type": "code",
   "execution_count": 19,
   "metadata": {},
   "outputs": [
    {
     "name": "stdout",
     "output_type": "stream",
     "text": [
      "[<Record graphName='similar_countries'>]\n"
     ]
    }
   ],
   "source": [
    "# Step 0 - Clear graph\n",
    "\n",
    "try:\n",
    "    query_9a = \"\"\"\n",
    "            CALL gds.graph.drop('similar_countries') YIELD graphName;\n",
    "        \"\"\"\n",
    "\n",
    "    result_9a = execute_read(driver, query_9a)\n",
    "\n",
    "    pprint(result_9a)\n",
    "    \n",
    "except Exception as e:\n",
    "    pprint(e)"
   ]
  },
  {
   "cell_type": "code",
   "execution_count": 20,
   "metadata": {},
   "outputs": [
    {
     "name": "stdout",
     "output_type": "stream",
     "text": [
      "[<Record nodeQuery='MATCH (n:COUNTRIES) RETURN id(n) AS id UNION ALL MATCH (s:STYLE) return id(s) as id' relationshipQuery='MATCH (c:COUNTRIES)<-[]-(ci:CITIES)<-[]-(br:BREWERIES)-[]->(be:BEERS)-[]->(s:STYLE) WITH c as Country, s as Style, count(*) as Freq\\n                ORDER BY Freq DESC\\n                WITH Country, collect(Style)[..10] as Top_10 UNWIND Top_10 as Country_Top_10 \\n                RETURN id(Country) as source, id(Country_Top_10) as target' graphName='similar_countries' nodeCount=313 relationshipCount=1418 projectMillis=5270>]\n"
     ]
    }
   ],
   "source": [
    "# Step 1 - Create the similar_countries graph\n",
    "\n",
    "try:\n",
    "    query_9b = \"\"\"\n",
    "         CALL gds.graph.project.cypher(\n",
    "            'similar_countries',\n",
    "            'MATCH (n:COUNTRIES) RETURN id(n) AS id UNION ALL MATCH (s:STYLE) return id(s) as id',\n",
    "            'MATCH (c:COUNTRIES)<-[]-(ci:CITIES)<-[]-(br:BREWERIES)-[]->(be:BEERS)-[]->(s:STYLE) WITH c as Country, s as Style, count(*) as Freq\n",
    "                ORDER BY Freq DESC\n",
    "                WITH Country, collect(Style)[..10] as Top_10 UNWIND Top_10 as Country_Top_10 \n",
    "                RETURN id(Country) as source, id(Country_Top_10) as target'\n",
    "        )\n",
    "        \"\"\"\n",
    "\n",
    "    result_9b = execute_read(driver, query_9b)\n",
    "\n",
    "    pprint(result_9b)\n",
    "    \n",
    "except Exception as e:\n",
    "    pprint(e)"
   ]
  },
  {
   "cell_type": "code",
   "execution_count": 21,
   "metadata": {},
   "outputs": [
    {
     "name": "stdout",
     "output_type": "stream",
     "text": [
      "[<Record Country1='AU' Country2='NZ' similarity=1.0>,\n",
      " <Record Country1='CA' Country2='PH' similarity=1.0>,\n",
      " <Record Country1='NZ' Country2='AU' similarity=1.0>,\n",
      " <Record Country1='UA' Country2='LT' similarity=1.0>,\n",
      " <Record Country1='KY' Country2='ET' similarity=1.0>]\n"
     ]
    }
   ],
   "source": [
    "# Step 2 - Run the Node Similarity algorithm\n",
    "\n",
    "try:\n",
    "    query_9c = \"\"\"\n",
    "        CALL gds.nodeSimilarity.stream('similar_countries') \n",
    "            YIELD node1, node2, similarity\n",
    "            WITH gds.util.asNode(node1).name AS Country1, gds.util.asNode(node2).name AS Country2, similarity\n",
    "            WHERE Country1 <> \"nan\" AND Country2 <> \"nan\"\n",
    "            RETURN Country1, Country2, similarity\n",
    "            ORDER BY similarity DESCENDING\n",
    "            LIMIT 5\n",
    "        \"\"\"\n",
    "\n",
    "    result_9c = execute_read(driver, query_9c)\n",
    "\n",
    "    pprint(result_9c)\n",
    "    \n",
    "except Exception as e:\n",
    "    pprint(e)"
   ]
  },
  {
   "cell_type": "code",
   "execution_count": 22,
   "metadata": {},
   "outputs": [
    {
     "name": "stdout",
     "output_type": "stream",
     "text": [
      "[<Record Country='AU' Style='American IPA' Number_of_Beers=1893>,\n",
      " <Record Country='AU' Style='American Pale Ale (APA)' Number_of_Beers=1070>,\n",
      " <Record Country='AU' Style='American Imperial IPA' Number_of_Beers=867>,\n",
      " <Record Country='AU' Style='Belgian Saison' Number_of_Beers=770>,\n",
      " <Record Country='AU' Style='American Imperial Stout' Number_of_Beers=467>,\n",
      " <Record Country='AU' Style='American Porter' Number_of_Beers=452>,\n",
      " <Record Country='AU' Style='American Amber / Red Ale' Number_of_Beers=450>,\n",
      " <Record Country='AU' Style='American Wild Ale' Number_of_Beers=411>,\n",
      " <Record Country='AU' Style='American Stout' Number_of_Beers=383>,\n",
      " <Record Country='AU' Style='Fruit and Field Beer' Number_of_Beers=360>]\n"
     ]
    }
   ],
   "source": [
    "# Check top 10 beer styles for the 2 most similar countries\n",
    "\n",
    "country = result_9c[0][0]\n",
    "query_9_check1 = f\"\"\"\n",
    "             MATCH (c:COUNTRIES{{name: \"{country}\"}})<-[in:IN]-(ci:CITIES)<-[ins:IN]-(br:BREWERIES)-[bre:BREWED]->(b:BEERS)-[h:HAS_STYLE]->(st:STYLE)\n",
    "             RETURN c.name as Country, st.name as Style, count(st.name) as Number_of_Beers\n",
    "             ORDER BY Number_of_Beers DESC\n",
    "             LIMIT 10\n",
    "            \"\"\"\n",
    "\n",
    "result_9_check1 = execute_read(driver, query_9_check1)\n",
    "\n",
    "pprint(result_9_check1)"
   ]
  },
  {
   "cell_type": "code",
   "execution_count": 23,
   "metadata": {},
   "outputs": [
    {
     "name": "stdout",
     "output_type": "stream",
     "text": [
      "[<Record Country='NZ' Style='American IPA' Number_of_Beers=886>,\n",
      " <Record Country='NZ' Style='American Imperial IPA' Number_of_Beers=427>,\n",
      " <Record Country='NZ' Style='American Pale Ale (APA)' Number_of_Beers=383>,\n",
      " <Record Country='NZ' Style='Belgian Saison' Number_of_Beers=330>,\n",
      " <Record Country='NZ' Style='American Imperial Stout' Number_of_Beers=250>,\n",
      " <Record Country='NZ' Style='American Porter' Number_of_Beers=241>,\n",
      " <Record Country='NZ' Style='American Stout' Number_of_Beers=194>,\n",
      " <Record Country='NZ' Style='American Amber / Red Ale' Number_of_Beers=193>,\n",
      " <Record Country='NZ' Style='American Wild Ale' Number_of_Beers=168>,\n",
      " <Record Country='NZ' Style='Fruit and Field Beer' Number_of_Beers=161>]\n"
     ]
    }
   ],
   "source": [
    "# Check top 10 beer styles for the 2 most similar countries\n",
    "\n",
    "\n",
    "country = result_9c[0][1]\n",
    "query_9_check2 = f\"\"\"\n",
    "             MATCH (c:COUNTRIES{{name: \"{country}\"}})<-[in:IN]-(ci:CITIES)<-[ins:IN]-(br:BREWERIES)-[bre:BREWED]->(b:BEERS)-[h:HAS_STYLE]->(st:STYLE)\n",
    "             RETURN c.name as Country, st.name as Style, count(st.name) as Number_of_Beers\n",
    "             ORDER BY Number_of_Beers DESC\n",
    "             LIMIT 10\n",
    "            \"\"\"\n",
    "\n",
    "result_9_check2 = execute_read(driver, query_9_check2)\n",
    "\n",
    "pprint(result_9_check2)"
   ]
  },
  {
   "cell_type": "code",
   "execution_count": 24,
   "metadata": {},
   "outputs": [
    {
     "name": "stdout",
     "output_type": "stream",
     "text": [
      "[<Record Number_Similar_Countries=106>]\n"
     ]
    }
   ],
   "source": [
    "# Checking the number of countries with a similarity equal to 1. We divided the number by 2 because each pair is repeated twice.\n",
    "\n",
    "try:\n",
    "    query_9c = \"\"\"\n",
    "        CALL gds.nodeSimilarity.stream('similar_countries') \n",
    "            YIELD node1, node2, similarity\n",
    "            WITH gds.util.asNode(node1).name AS Country1, gds.util.asNode(node2).name AS Country2, similarity\n",
    "            WHERE Country1 <> \"nan\" AND Country2 <> \"nan\" AND similarity = 1\n",
    "            RETURN COUNT(*)/2 as Number_Similar_Countries\n",
    "        \"\"\"\n",
    "\n",
    "    result_9c = execute_read(driver, query_9c)\n",
    "\n",
    "    pprint(result_9c)\n",
    "    \n",
    "except Exception as e:\n",
    "    pprint(e)"
   ]
  },
  {
   "cell_type": "markdown",
   "metadata": {},
   "source": [
    "<b>Answer 9.1:</b> There is 106 countries with the same top 10 styles. We chose randomly one pair and confirmed their top 10 styles."
   ]
  },
  {
   "cell_type": "markdown",
   "metadata": {},
   "source": [
    "#### 10. Using Graph Algorithms answer **one** of the following questions:\n",
    "    1. Which beer has the most similar reviews as the beer `Super Bock Stout`? [Hint:inspect two subsets: with and without the beer in question]\n",
    "    2. Which user is the most influential when it comes to reviews made?"
   ]
  },
  {
   "cell_type": "markdown",
   "metadata": {},
   "source": [
    "<b>10.2.</b> Which user is the most influential when it comes to reviews made?"
   ]
  },
  {
   "cell_type": "code",
   "execution_count": 25,
   "metadata": {},
   "outputs": [
    {
     "name": "stdout",
     "output_type": "stream",
     "text": [
      "[<Record graphName='user_influence'>]\n"
     ]
    }
   ],
   "source": [
    "# Step 0 - Clear graph\n",
    "\n",
    "try:\n",
    "    query_10a = \"\"\"\n",
    "            CALL gds.graph.drop('user_influence') YIELD graphName;\n",
    "        \"\"\"\n",
    "\n",
    "    result_10a = execute_read(driver, query_10a)\n",
    "\n",
    "    pprint(result_10a)\n",
    "    \n",
    "except Exception as e:\n",
    "    pprint(e)"
   ]
  },
  {
   "cell_type": "code",
   "execution_count": 26,
   "metadata": {},
   "outputs": [
    {
     "name": "stdout",
     "output_type": "stream",
     "text": [
      "[<Record nodeQuery=\"MATCH (n) where head(Labels(n))='USER' or head(Labels(n))='REVIEWS' RETURN id(n) AS id\" relationshipQuery='MATCH (u:USER)<-[]-(r:REVIEWS)\\n             RETURN id(r) AS source, id(u) AS target' graphName='user_influence' nodeCount=9238044 relationshipCount=9073109 projectMillis=30232>]\n"
     ]
    }
   ],
   "source": [
    "# Step 1 - Create the user_influence graph\n",
    "\n",
    "try:\n",
    "    query_10b = \"\"\"\n",
    "        CALL gds.graph.project.cypher(\n",
    "            'user_influence',\n",
    "            \"MATCH (n) where head(Labels(n))='USER' or head(Labels(n))='REVIEWS' RETURN id(n) AS id\",\n",
    "            \"MATCH (u:USER)<-[]-(r:REVIEWS)\n",
    "             RETURN id(r) AS source, id(u) AS target\"\n",
    "            )\n",
    "            \"\"\"\n",
    "\n",
    "    result_10b = execute_read(driver, query_10b)\n",
    "\n",
    "    pprint(result_10b)\n",
    "    \n",
    "except Exception as e:\n",
    "    pprint(e)"
   ]
  },
  {
   "cell_type": "code",
   "execution_count": 27,
   "metadata": {},
   "outputs": [
    {
     "name": "stdout",
     "output_type": "stream",
     "text": [
      "[<Record Username='Sammy' Influence_Score=1759.27>,\n",
      " <Record Username='kylehay2004' Influence_Score=1558.33>,\n",
      " <Record Username='acurtis' Influence_Score=1532.19>,\n",
      " <Record Username='StonedTrippin' Influence_Score=1512.17>,\n",
      " <Record Username='jaydoc' Influence_Score=1504.65>]\n"
     ]
    }
   ],
   "source": [
    "# Step 2 - Run the PageRank algorithm\n",
    "\n",
    "try:\n",
    "    query_10c = \"\"\"\n",
    "        CALL gds.pageRank.stream('user_influence') \n",
    "            YIELD nodeId, score\n",
    "            RETURN gds.util.asNode(nodeId).name AS Username, ROUND(score,2) as Influence_Score\n",
    "            ORDER BY Influence_Score DESC\n",
    "            LIMIT 5\n",
    "        \"\"\"\n",
    "\n",
    "    result_10c = execute_read(driver, query_10c)\n",
    "\n",
    "    pprint(result_10c)\n",
    "    \n",
    "except Exception as e:\n",
    "    pprint(e)"
   ]
  },
  {
   "cell_type": "code",
   "execution_count": 28,
   "metadata": {},
   "outputs": [
    {
     "name": "stdout",
     "output_type": "stream",
     "text": [
      "[<Record Username='Sammy' Number_of_Reviews=13797>,\n",
      " <Record Username='kylehay2004' Number_of_Reviews=12221>,\n",
      " <Record Username='acurtis' Number_of_Reviews=12016>,\n",
      " <Record Username='StonedTrippin' Number_of_Reviews=11859>,\n",
      " <Record Username='jaydoc' Number_of_Reviews=11800>]\n"
     ]
    }
   ],
   "source": [
    "# Double check the users with most reviews\n",
    "\n",
    "query_10_check = \"\"\"\n",
    "            MATCH (u:USER)<-[]-(r:REVIEWS)\n",
    "            RETURN u.name as Username, COUNT(r) as Number_of_Reviews\n",
    "            ORDER BY Number_of_Reviews DESC\n",
    "            LIMIT 5\n",
    "          \"\"\"\n",
    "\n",
    "result_10_check = execute_read(driver, query_10_check)\n",
    "\n",
    "pprint(result_10_check)"
   ]
  },
  {
   "cell_type": "markdown",
   "metadata": {},
   "source": [
    "<b>Answer 10.2:</b> Sammy is the most influencial user when it comes to reviews made."
   ]
  },
  {
   "cell_type": "markdown",
   "metadata": {},
   "source": [
    "#### 11. If you had to pick 3 beers to recommend using only this database, which would you pick and why?"
   ]
  },
  {
   "cell_type": "code",
   "execution_count": 29,
   "metadata": {},
   "outputs": [
    {
     "name": "stdout",
     "output_type": "stream",
     "text": [
      "[<Record Average_Reviews=29.31>]\n"
     ]
    }
   ],
   "source": [
    "# Getting the average reviews per beer\n",
    "\n",
    "query_11extra1 = \"\"\"\n",
    "                 MATCH (r:REVIEWS)\n",
    "                 WITH r.beer_id as Beer, COUNT(r) as Number_of_Reviews\n",
    "                 RETURN ROUND(AVG(Number_of_Reviews), 2) as Average_Reviews\n",
    "                \"\"\"\n",
    "\n",
    "result_11extra1 = execute_read(driver, query_11extra1)\n",
    "\n",
    "pprint(result_11extra1)"
   ]
  },
  {
   "cell_type": "code",
   "execution_count": 30,
   "metadata": {},
   "outputs": [
    {
     "name": "stdout",
     "output_type": "stream",
     "text": [
      "[<Record Minimum_Reviews=502 Total_Number_of_Beers=309540 Percentile_Number_of_Beers=3043>]\n"
     ]
    }
   ],
   "source": [
    "# Getting the 99th percentile reviews per beer\n",
    "\n",
    "query_11extra2 = \"\"\"\n",
    "                    MATCH (r:REVIEWS)\n",
    "                    WITH r.beer_id as Beer, COUNT(r) as Number_of_Reviews\n",
    "                    WITH percentileDisc(Number_of_Reviews, 0.99) as Minimum_Reviews, COUNT(DISTINCT Beer) as Total_Number_of_Beers\n",
    "                    MATCH (b:BEERS)-[rv:REVIEWED]->(r:REVIEWS)\n",
    "                    WITH b, COUNT(r) as Number_of_Reviews, Minimum_Reviews, Total_Number_of_Beers\n",
    "                    WHERE Number_of_Reviews >= Minimum_Reviews \n",
    "                    RETURN Minimum_Reviews, Total_Number_of_Beers, COUNT(DISTINCT b.name) as Percentile_Number_of_Beers\n",
    "                 \"\"\"\n",
    "\n",
    "result_11extra2 = execute_read(driver, query_11extra2)\n",
    "\n",
    "pprint(result_11extra2)"
   ]
  },
  {
   "cell_type": "code",
   "execution_count": 31,
   "metadata": {},
   "outputs": [
    {
     "name": "stdout",
     "output_type": "stream",
     "text": [
      "[<Record Beer='Kentucky Brunch Brand Stout' Average_Score=4.84 Number_of_Reviews=702>,\n",
      " <Record Beer='Rare Bourbon County Brand Stout (2010)' Average_Score=4.8 Number_of_Reviews=1382>,\n",
      " <Record Beer='Good Morning' Average_Score=4.78 Number_of_Reviews=1039>]\n"
     ]
    }
   ],
   "source": [
    "query_11 = \"\"\"\n",
    "            MATCH (rev:REVIEWS)\n",
    "            WITH rev.beer_id as beer, COUNT(rev) as Rev_Num\n",
    "            WITH percentileDisc(Rev_Num, 0.99) as Minimum_Reviews\n",
    "            MATCH (b:BEERS)-[rv:REVIEWED]->(r:REVIEWS)\n",
    "            WITH b, COUNT(r) as Num_Rev, Minimum_Reviews\n",
    "            WHERE Num_Rev >= Minimum_Reviews \n",
    "            MATCH (be:BEERS)-[rv:REVIEWED]->(re:REVIEWS)\n",
    "            WHERE be.name IN b.name AND toFloat(re.score) <> 'nan'\n",
    "            RETURN DISTINCT be.name as Beer, ROUND(AVG(toFloat(re.score)), 2) as Average_Score, COUNT(re) as Number_of_Reviews\n",
    "            ORDER BY Average_Score DESC, Number_of_Reviews DESC\n",
    "            LIMIT 3\n",
    "            \"\"\"\n",
    "\n",
    "result_11 = execute_read(driver, query_11)\n",
    "\n",
    "pprint(result_11)"
   ]
  },
  {
   "cell_type": "markdown",
   "metadata": {},
   "source": [
    "<b>Answer:</b> We would recommend Kentucky Brunch Brand Stout, Rare Bourbon County Brand Stout (2010), and Good Morning.  \n",
    "<b>Explanation:</b> We based our recommendation on the number of reviews (to avoid bias) and the score attribute as  it seems to represent the average of all the attributes and it appears in all the reviews (other attributes had nan's).  \n",
    "In order to choose the minimum number of reviews, we calculated first the average number of reviews which was 29, and we got the beers with the highest score and a number of reviews higher than the average. But the average of reviews was relatively low.\n",
    "As a second step we checked the median which was 3 reviews, then we tried with different percentiles and ended up choosing the 99th percentile giving the 1% of the beers with the highest number of reviews (3043 beers with a minimum number of reviews of 502)."
   ]
  }
 ],
 "metadata": {
  "hide_input": false,
  "kernelspec": {
   "display_name": "Python 3 (ipykernel)",
   "language": "python",
   "name": "python3"
  },
  "language_info": {
   "codemirror_mode": {
    "name": "ipython",
    "version": 3
   },
   "file_extension": ".py",
   "mimetype": "text/x-python",
   "name": "python",
   "nbconvert_exporter": "python",
   "pygments_lexer": "ipython3",
   "version": "3.9.13"
  },
  "toc": {
   "base_numbering": 1,
   "nav_menu": {},
   "number_sections": true,
   "sideBar": true,
   "skip_h1_title": false,
   "title_cell": "Table of Contents",
   "title_sidebar": "Contents",
   "toc_cell": false,
   "toc_position": {},
   "toc_section_display": true,
   "toc_window_display": false
  },
  "varInspector": {
   "cols": {
    "lenName": 16,
    "lenType": 16,
    "lenVar": 40
   },
   "kernels_config": {
    "python": {
     "delete_cmd_postfix": "",
     "delete_cmd_prefix": "del ",
     "library": "var_list.py",
     "varRefreshCmd": "print(var_dic_list())"
    },
    "r": {
     "delete_cmd_postfix": ") ",
     "delete_cmd_prefix": "rm(",
     "library": "var_list.r",
     "varRefreshCmd": "cat(var_dic_list()) "
    }
   },
   "types_to_exclude": [
    "module",
    "function",
    "builtin_function_or_method",
    "instance",
    "_Feature"
   ],
   "window_display": false
  }
 },
 "nbformat": 4,
 "nbformat_minor": 4
}
